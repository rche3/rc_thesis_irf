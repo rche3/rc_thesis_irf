{
 "cells": [
  {
   "cell_type": "code",
   "execution_count": 31,
   "metadata": {},
   "outputs": [],
   "source": [
    "import pandas as pd\n",
    "import plotly.graph_objects as go"
   ]
  },
  {
   "cell_type": "code",
   "execution_count": 32,
   "metadata": {},
   "outputs": [],
   "source": [
    "estimand = 'IV' # IV, ObsShock, or Recurisve\n",
    "metric = 'medbias' # medbias, std, iqr, bias\n",
    "\n",
    "filepath = 'fig/baseline/lag4/DFM_' + estimand + '/'\n",
    "csv_filename = filepath + estimand + '_loss_' + metric + '_regcat.csv'  # Replace with your CSV file name\n",
    "\n",
    "title = metric + ' for estimand type: ' + estimand"
   ]
  },
  {
   "cell_type": "code",
   "execution_count": 33,
   "metadata": {},
   "outputs": [],
   "source": [
    "def plot_csv_data(csv_filename, title):\n",
    "    # Read the CSV file\n",
    "    df = pd.read_csv(csv_filename, index_col=0)\n",
    "\n",
    "    # Select columns from 'h0' to 'h19'\n",
    "    rows_to_plot = [f'h{i}' for i in range(20)]\n",
    "    df_plot = df.loc[rows_to_plot]\n",
    "    \n",
    "    fig = go.Figure()\n",
    "    for column_name, column_data in df_plot.items():\n",
    "        fig.add_trace(go.Scatter(x=list(range(20)), y=column_data.values, mode='lines', name=column_name))\n",
    "    \n",
    "    fig.update_layout(\n",
    "            title='Plot of ' + title,\n",
    "            xaxis_title='Horizon (h0 to h19)',\n",
    "            yaxis_title='Value',\n",
    "            legend_title='Methods',\n",
    "            width = 800\n",
    "        )\n",
    "        \n",
    "    # Show the plot\n",
    "    fig.show()"
   ]
  },
  {
   "cell_type": "code",
   "execution_count": 35,
   "metadata": {},
   "outputs": [
    {
     "ename": "SyntaxError",
     "evalue": "invalid syntax. Perhaps you forgot a comma? (2725839467.py, line 1)",
     "output_type": "error",
     "traceback": [
      "\u001b[0;36m  Cell \u001b[0;32mIn[35], line 1\u001b[0;36m\u001b[0m\n\u001b[0;31m    plot_csv_data(csv_filenamem title)\u001b[0m\n\u001b[0m                  ^\u001b[0m\n\u001b[0;31mSyntaxError\u001b[0m\u001b[0;31m:\u001b[0m invalid syntax. Perhaps you forgot a comma?\n"
     ]
    }
   ],
   "source": [
    "plot_csv_data(csv_filename, title)\n"
   ]
  }
 ],
 "metadata": {
  "kernelspec": {
   "display_name": "Python 3 (ipykernel)",
   "language": "python",
   "name": "python3"
  },
  "language_info": {
   "codemirror_mode": {
    "name": "ipython",
    "version": 3
   },
   "file_extension": ".py",
   "mimetype": "text/x-python",
   "name": "python",
   "nbconvert_exporter": "python",
   "pygments_lexer": "ipython3",
   "version": "3.11.1"
  }
 },
 "nbformat": 4,
 "nbformat_minor": 4
}
