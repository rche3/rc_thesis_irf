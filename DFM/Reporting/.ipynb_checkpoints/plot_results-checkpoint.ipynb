{
 "cells": [
  {
   "cell_type": "code",
   "execution_count": 31,
   "metadata": {},
   "outputs": [],
   "source": [
    "import pandas as pd\n",
    "import plotly.graph_objects as go"
   ]
  },
  {
   "cell_type": "code",
   "execution_count": 32,
   "metadata": {},
   "outputs": [],
   "source": [
    "estimand = 'IV' # IV, ObsShock, or Recurisve\n",
    "metric = 'medbias' # medbias, std, iqr, bias\n",
    "\n",
    "filepath = 'fig/baseline/lag4/DFM_' + estimand + '/'\n",
    "csv_filename = filepath + estimand + '_loss_' + metric + '_regcat.csv'  # Replace with your CSV file name\n",
    "\n",
    "title = metric + ' for estimand type: ' + estimand"
   ]
  },
  {
   "cell_type": "code",
   "execution_count": 42,
   "metadata": {},
   "outputs": [],
   "source": [
    "def plot_csv_data(csv_filename, title, write_html):\n",
    "    # Read the CSV file\n",
    "    df = pd.read_csv(csv_filename, index_col=0)\n",
    "\n",
    "    # Select columns from 'h0' to 'h19'\n",
    "    rows_to_plot = [f'h{i}' for i in range(20)]\n",
    "    df_plot = df.loc[rows_to_plot]\n",
    "    \n",
    "    fig = go.Figure()\n",
    "    for column_name, column_data in df_plot.items():\n",
    "        fig.add_trace(go.Scatter(x=list(range(20)), y=column_data.values, mode='lines', name=column_name))\n",
    "    \n",
    "    fig.update_layout(\n",
    "            title='Plot of ' + title,\n",
    "            xaxis_title='Horizon (h0 to h19)',\n",
    "            yaxis_title='Value',\n",
    "            legend_title='Methods',\n",
    "            height = 800,\n",
    "            width = 1600\n",
    "        )\n",
    "        \n",
    "    # Show the plot\n",
    "    fig.show()\n",
    "    if write_html == 1:\n",
    "        fig.write_html(\"py_plots/title.html\")\n",
    "    else: \n",
    "        pass"
   ]
  },
  {
   "cell_type": "code",
   "execution_count": 43,
   "metadata": {},
   "outputs": [
    {
     "data": {
      "application/vnd.plotly.v1+json": {
       "config": {
        "plotlyServerURL": "https://plot.ly"
       },
       "data": [
        {
         "mode": "lines",
         "name": "svar",
         "type": "scatter",
         "x": [
          0,
          1,
          2,
          3,
          4,
          5,
          6,
          7,
          8,
          9,
          10,
          11,
          12,
          13,
          14,
          15,
          16,
          17,
          18,
          19
         ],
         "y": [
          -0.710309514873057,
          -0.207964547510306,
          0.0172016042476374,
          -0.13682702504472,
          0.202374290323746,
          0.117842507547003,
          -0.0230294446886729,
          0.393887866452903,
          0.321681160983294,
          0.423567899582846,
          0.312937660241225,
          0.568339234460753,
          0.54504069098378,
          0.309006348823171,
          0.495682341975497,
          0.486357532357095,
          0.434719534644391,
          0.363463637117023,
          0.269422302666345,
          0.141419740776847
         ]
        },
        {
         "mode": "lines",
         "name": "svar_corrbias",
         "type": "scatter",
         "x": [
          0,
          1,
          2,
          3,
          4,
          5,
          6,
          7,
          8,
          9,
          10,
          11,
          12,
          13,
          14,
          15,
          16,
          17,
          18,
          19
         ],
         "y": [
          -1.21651020645525,
          -0.904832383861977,
          -0.252805578013555,
          -0.442668698416693,
          -0.142711020856382,
          -0.174167826750959,
          -0.505258065924998,
          -0.20832329582489,
          -0.488055259992915,
          -0.471050217308301,
          -0.448509761149132,
          -0.41063231695631,
          -0.203902865386306,
          -0.0191560078080169,
          0.0894678520850656,
          0.132849444437116,
          0.141906325322824,
          0.136081221008654,
          0.105065999600222,
          0.0207925298765133
         ]
        },
        {
         "mode": "lines",
         "name": "bvar",
         "type": "scatter",
         "x": [
          0,
          1,
          2,
          3,
          4,
          5,
          6,
          7,
          8,
          9,
          10,
          11,
          12,
          13,
          14,
          15,
          16,
          17,
          18,
          19
         ],
         "y": [
          -0.369536753183925,
          -0.0092117095843938,
          0.184489375424394,
          -0.423224840802645,
          0.288377815833034,
          0.760092196616145,
          0.855233429359113,
          0.682720918766714,
          0.797322713256903,
          0.770119154211633,
          0.608251193313987,
          0.500049814265932,
          0.447526325171714,
          0.354287621099361,
          0.0673149811936531,
          -0.240796077999893,
          -0.006446959372207,
          0.0953822330893481,
          0.103140006683457,
          0.0714387608706643
         ]
        },
        {
         "mode": "lines",
         "name": "lp",
         "type": "scatter",
         "x": [
          0,
          1,
          2,
          3,
          4,
          5,
          6,
          7,
          8,
          9,
          10,
          11,
          12,
          13,
          14,
          15,
          16,
          17,
          18,
          19
         ],
         "y": [
          -1.48215363549708,
          -0.675885957905279,
          -0.292247078148278,
          -0.841049266435809,
          -0.163338103088053,
          -0.334364130994333,
          -0.540341227192242,
          -0.300819367622328,
          -0.411132242809966,
          0.0136911508618821,
          -0.51314710304887,
          -0.516867839592238,
          -0.611388514601752,
          -0.55699061780896,
          -0.0487136147784114,
          -0.114199715563099,
          -0.556905733811526,
          -0.425848825624406,
          -0.399258231527375,
          0.102206491592132
         ]
        },
        {
         "mode": "lines",
         "name": "lp_corrbias",
         "type": "scatter",
         "x": [
          0,
          1,
          2,
          3,
          4,
          5,
          6,
          7,
          8,
          9,
          10,
          11,
          12,
          13,
          14,
          15,
          16,
          17,
          18,
          19
         ],
         "y": [
          -1.73621213636252,
          -0.967921131520951,
          -0.494556231628083,
          -0.871614286863105,
          -0.418131464769275,
          -0.801238813662233,
          -0.809439101865486,
          -0.659497521673829,
          -0.918963409979078,
          -0.271970981254881,
          -0.745945733788132,
          -0.691758382119322,
          -1.0975397531787,
          -0.80789685476614,
          -0.268951784231894,
          -0.0360730161677064,
          -0.274740884823674,
          -0.0080261639670914,
          -0.551062585095835,
          -0.36063195811271
         ]
        },
        {
         "mode": "lines",
         "name": "lp_penalize",
         "type": "scatter",
         "x": [
          0,
          1,
          2,
          3,
          4,
          5,
          6,
          7,
          8,
          9,
          10,
          11,
          12,
          13,
          14,
          15,
          16,
          17,
          18,
          19
         ],
         "y": [
          0.113009919743342,
          -0.863471827539965,
          -1.24692229313831,
          -0.857283952375347,
          -0.561464984543133,
          -0.56617614097784,
          -0.153063594293671,
          -0.0149748352220908,
          0.0286960553416344,
          -0.0289674553912203,
          -0.221656666947092,
          -0.454106608658269,
          -0.967487098639512,
          -0.513461408724345,
          -0.355293261125873,
          -0.590068213247441,
          -0.313352911607411,
          -0.389781747352608,
          -0.272526098525411,
          -0.0700135854484517
         ]
        },
        {
         "mode": "lines",
         "name": "var_avg",
         "type": "scatter",
         "x": [
          0,
          1,
          2,
          3,
          4,
          5,
          6,
          7,
          8,
          9,
          10,
          11,
          12,
          13,
          14,
          15,
          16,
          17,
          18,
          19
         ],
         "y": [
          -0.958480976860539,
          -0.694539584478077,
          -0.506805589840385,
          -0.919920780783498,
          -0.148259769896583,
          0.130271807326156,
          -0.224610969658006,
          -0.0058714569382862,
          0.337838314874991,
          0.271410692154282,
          0.182562999620462,
          -0.0248266823462414,
          0.0890518812185454,
          -0.210750435990414,
          -0.509791134123165,
          -0.713614325952175,
          -0.409631197161556,
          -1.33968654067758,
          -1.15990050909605,
          -0.299262410608424
         ]
        },
        {
         "mode": "lines",
         "name": "lp_lagaug",
         "type": "scatter",
         "x": [
          0,
          1,
          2,
          3,
          4,
          5,
          6,
          7,
          8,
          9,
          10,
          11,
          12,
          13,
          14,
          15,
          16,
          17,
          18,
          19
         ],
         "y": [
          -0.94751777943491,
          -0.70193716151598,
          -0.363620941872265,
          -0.622859129877916,
          -0.170013410396071,
          -0.679413383163789,
          -1.18342438439525,
          -0.188931562857614,
          -0.250708667146927,
          -0.301106500819869,
          -0.0779695291538141,
          -0.400993846738696,
          -0.722908868916018,
          -0.561218342456104,
          -0.229518362291321,
          -0.120034651079132,
          -0.118159805500571,
          -0.344080021942047,
          -0.597444647279178,
          -0.0511153727259998
         ]
        },
        {
         "mode": "lines",
         "name": "lp_gls",
         "type": "scatter",
         "x": [
          0,
          1,
          2,
          3,
          4,
          5,
          6,
          7,
          8,
          9,
          10,
          11,
          12,
          13,
          14,
          15,
          16,
          17,
          18,
          19
         ],
         "y": [
          0.497248990468892,
          0.553570888101298,
          0.184275713734519,
          0.0223996646710685,
          0.30772506225444,
          0.425854297422649,
          0.364554471416726,
          0.583239139384906,
          0.732311268449292,
          0.751844064078093,
          0.77285066521063,
          0.602307978876235,
          0.468970315576937,
          0.473280952029933,
          0.549252221646709,
          0.429302323625536,
          0.317032316577184,
          0.635621605551371,
          0.592338092992688,
          0.148185919490409
         ]
        },
        {
         "mode": "lines",
         "name": "svar_iv",
         "type": "scatter",
         "x": [
          0,
          1,
          2,
          3,
          4,
          5,
          6,
          7,
          8,
          9,
          10,
          11,
          12,
          13,
          14,
          15,
          16,
          17,
          18,
          19
         ],
         "y": [
          -0.819492148377217,
          -0.766608649234995,
          -0.636160530321576,
          -0.14593616535977,
          0.320601313198655,
          0.241635847687021,
          0.122347532719563,
          0.383339075976278,
          0.335784808663871,
          0.478434258259063,
          0.461584931309191,
          0.430503936907507,
          0.435209646859716,
          0.291875574411446,
          0.274389012750766,
          0.216116847821659,
          0.0224764087417274,
          0.115420911681555,
          0.0575522416136235,
          -0.178768052760704
         ]
        },
        {
         "mode": "lines",
         "name": "residual",
         "type": "scatter",
         "x": [
          0,
          1,
          2,
          3,
          4,
          5,
          6,
          7,
          8,
          9,
          10,
          11,
          12,
          13,
          14,
          15,
          16,
          17,
          18,
          19
         ],
         "y": [
          0.0167316430292036,
          0.299421907729803,
          0.560284963259454,
          0.728132026238927,
          0.63405918368857,
          0.34341100042724,
          0.386820190824903,
          0.360610702276727,
          0.225277022647548,
          0.0850947997770582,
          0.184604724213533,
          0.398014316298273,
          0.615682034845942,
          -0.0492528415878254,
          0.176546187061249,
          0.210903526822632,
          0.438079129780327,
          0.515815054194227,
          -0.0118437898610375,
          -0.0435155643748204
         ]
        },
        {
         "mode": "lines",
         "name": "lp_IV_controls",
         "type": "scatter",
         "x": [
          0,
          1,
          2,
          3,
          4,
          5,
          6,
          7,
          8,
          9,
          10,
          11,
          12,
          13,
          14,
          15,
          16,
          17,
          18,
          19
         ],
         "y": [
          -0.362227217844574,
          0.363830930752008,
          0.551886774874949,
          0.259416058184701,
          0.0895753914624167,
          0.508421428105383,
          0.41349378962982,
          0.474114679149006,
          0.0803718586678963,
          0.337391422995588,
          0.103671499544401,
          0.425912045285959,
          0.952244507825944,
          0.561818034889648,
          0.285531890891466,
          0.444929830365649,
          0.480414224886281,
          0.780375924980457,
          0.595831121761805,
          0.58954850150696
         ]
        }
       ],
       "layout": {
        "height": 360,
        "legend": {
         "title": {
          "text": "Methods"
         }
        },
        "template": {
         "data": {
          "bar": [
           {
            "error_x": {
             "color": "#2a3f5f"
            },
            "error_y": {
             "color": "#2a3f5f"
            },
            "marker": {
             "line": {
              "color": "#E5ECF6",
              "width": 0.5
             },
             "pattern": {
              "fillmode": "overlay",
              "size": 10,
              "solidity": 0.2
             }
            },
            "type": "bar"
           }
          ],
          "barpolar": [
           {
            "marker": {
             "line": {
              "color": "#E5ECF6",
              "width": 0.5
             },
             "pattern": {
              "fillmode": "overlay",
              "size": 10,
              "solidity": 0.2
             }
            },
            "type": "barpolar"
           }
          ],
          "carpet": [
           {
            "aaxis": {
             "endlinecolor": "#2a3f5f",
             "gridcolor": "white",
             "linecolor": "white",
             "minorgridcolor": "white",
             "startlinecolor": "#2a3f5f"
            },
            "baxis": {
             "endlinecolor": "#2a3f5f",
             "gridcolor": "white",
             "linecolor": "white",
             "minorgridcolor": "white",
             "startlinecolor": "#2a3f5f"
            },
            "type": "carpet"
           }
          ],
          "choropleth": [
           {
            "colorbar": {
             "outlinewidth": 0,
             "ticks": ""
            },
            "type": "choropleth"
           }
          ],
          "contour": [
           {
            "colorbar": {
             "outlinewidth": 0,
             "ticks": ""
            },
            "colorscale": [
             [
              0,
              "#0d0887"
             ],
             [
              0.1111111111111111,
              "#46039f"
             ],
             [
              0.2222222222222222,
              "#7201a8"
             ],
             [
              0.3333333333333333,
              "#9c179e"
             ],
             [
              0.4444444444444444,
              "#bd3786"
             ],
             [
              0.5555555555555556,
              "#d8576b"
             ],
             [
              0.6666666666666666,
              "#ed7953"
             ],
             [
              0.7777777777777778,
              "#fb9f3a"
             ],
             [
              0.8888888888888888,
              "#fdca26"
             ],
             [
              1,
              "#f0f921"
             ]
            ],
            "type": "contour"
           }
          ],
          "contourcarpet": [
           {
            "colorbar": {
             "outlinewidth": 0,
             "ticks": ""
            },
            "type": "contourcarpet"
           }
          ],
          "heatmap": [
           {
            "colorbar": {
             "outlinewidth": 0,
             "ticks": ""
            },
            "colorscale": [
             [
              0,
              "#0d0887"
             ],
             [
              0.1111111111111111,
              "#46039f"
             ],
             [
              0.2222222222222222,
              "#7201a8"
             ],
             [
              0.3333333333333333,
              "#9c179e"
             ],
             [
              0.4444444444444444,
              "#bd3786"
             ],
             [
              0.5555555555555556,
              "#d8576b"
             ],
             [
              0.6666666666666666,
              "#ed7953"
             ],
             [
              0.7777777777777778,
              "#fb9f3a"
             ],
             [
              0.8888888888888888,
              "#fdca26"
             ],
             [
              1,
              "#f0f921"
             ]
            ],
            "type": "heatmap"
           }
          ],
          "heatmapgl": [
           {
            "colorbar": {
             "outlinewidth": 0,
             "ticks": ""
            },
            "colorscale": [
             [
              0,
              "#0d0887"
             ],
             [
              0.1111111111111111,
              "#46039f"
             ],
             [
              0.2222222222222222,
              "#7201a8"
             ],
             [
              0.3333333333333333,
              "#9c179e"
             ],
             [
              0.4444444444444444,
              "#bd3786"
             ],
             [
              0.5555555555555556,
              "#d8576b"
             ],
             [
              0.6666666666666666,
              "#ed7953"
             ],
             [
              0.7777777777777778,
              "#fb9f3a"
             ],
             [
              0.8888888888888888,
              "#fdca26"
             ],
             [
              1,
              "#f0f921"
             ]
            ],
            "type": "heatmapgl"
           }
          ],
          "histogram": [
           {
            "marker": {
             "pattern": {
              "fillmode": "overlay",
              "size": 10,
              "solidity": 0.2
             }
            },
            "type": "histogram"
           }
          ],
          "histogram2d": [
           {
            "colorbar": {
             "outlinewidth": 0,
             "ticks": ""
            },
            "colorscale": [
             [
              0,
              "#0d0887"
             ],
             [
              0.1111111111111111,
              "#46039f"
             ],
             [
              0.2222222222222222,
              "#7201a8"
             ],
             [
              0.3333333333333333,
              "#9c179e"
             ],
             [
              0.4444444444444444,
              "#bd3786"
             ],
             [
              0.5555555555555556,
              "#d8576b"
             ],
             [
              0.6666666666666666,
              "#ed7953"
             ],
             [
              0.7777777777777778,
              "#fb9f3a"
             ],
             [
              0.8888888888888888,
              "#fdca26"
             ],
             [
              1,
              "#f0f921"
             ]
            ],
            "type": "histogram2d"
           }
          ],
          "histogram2dcontour": [
           {
            "colorbar": {
             "outlinewidth": 0,
             "ticks": ""
            },
            "colorscale": [
             [
              0,
              "#0d0887"
             ],
             [
              0.1111111111111111,
              "#46039f"
             ],
             [
              0.2222222222222222,
              "#7201a8"
             ],
             [
              0.3333333333333333,
              "#9c179e"
             ],
             [
              0.4444444444444444,
              "#bd3786"
             ],
             [
              0.5555555555555556,
              "#d8576b"
             ],
             [
              0.6666666666666666,
              "#ed7953"
             ],
             [
              0.7777777777777778,
              "#fb9f3a"
             ],
             [
              0.8888888888888888,
              "#fdca26"
             ],
             [
              1,
              "#f0f921"
             ]
            ],
            "type": "histogram2dcontour"
           }
          ],
          "mesh3d": [
           {
            "colorbar": {
             "outlinewidth": 0,
             "ticks": ""
            },
            "type": "mesh3d"
           }
          ],
          "parcoords": [
           {
            "line": {
             "colorbar": {
              "outlinewidth": 0,
              "ticks": ""
             }
            },
            "type": "parcoords"
           }
          ],
          "pie": [
           {
            "automargin": true,
            "type": "pie"
           }
          ],
          "scatter": [
           {
            "fillpattern": {
             "fillmode": "overlay",
             "size": 10,
             "solidity": 0.2
            },
            "type": "scatter"
           }
          ],
          "scatter3d": [
           {
            "line": {
             "colorbar": {
              "outlinewidth": 0,
              "ticks": ""
             }
            },
            "marker": {
             "colorbar": {
              "outlinewidth": 0,
              "ticks": ""
             }
            },
            "type": "scatter3d"
           }
          ],
          "scattercarpet": [
           {
            "marker": {
             "colorbar": {
              "outlinewidth": 0,
              "ticks": ""
             }
            },
            "type": "scattercarpet"
           }
          ],
          "scattergeo": [
           {
            "marker": {
             "colorbar": {
              "outlinewidth": 0,
              "ticks": ""
             }
            },
            "type": "scattergeo"
           }
          ],
          "scattergl": [
           {
            "marker": {
             "colorbar": {
              "outlinewidth": 0,
              "ticks": ""
             }
            },
            "type": "scattergl"
           }
          ],
          "scattermapbox": [
           {
            "marker": {
             "colorbar": {
              "outlinewidth": 0,
              "ticks": ""
             }
            },
            "type": "scattermapbox"
           }
          ],
          "scatterpolar": [
           {
            "marker": {
             "colorbar": {
              "outlinewidth": 0,
              "ticks": ""
             }
            },
            "type": "scatterpolar"
           }
          ],
          "scatterpolargl": [
           {
            "marker": {
             "colorbar": {
              "outlinewidth": 0,
              "ticks": ""
             }
            },
            "type": "scatterpolargl"
           }
          ],
          "scatterternary": [
           {
            "marker": {
             "colorbar": {
              "outlinewidth": 0,
              "ticks": ""
             }
            },
            "type": "scatterternary"
           }
          ],
          "surface": [
           {
            "colorbar": {
             "outlinewidth": 0,
             "ticks": ""
            },
            "colorscale": [
             [
              0,
              "#0d0887"
             ],
             [
              0.1111111111111111,
              "#46039f"
             ],
             [
              0.2222222222222222,
              "#7201a8"
             ],
             [
              0.3333333333333333,
              "#9c179e"
             ],
             [
              0.4444444444444444,
              "#bd3786"
             ],
             [
              0.5555555555555556,
              "#d8576b"
             ],
             [
              0.6666666666666666,
              "#ed7953"
             ],
             [
              0.7777777777777778,
              "#fb9f3a"
             ],
             [
              0.8888888888888888,
              "#fdca26"
             ],
             [
              1,
              "#f0f921"
             ]
            ],
            "type": "surface"
           }
          ],
          "table": [
           {
            "cells": {
             "fill": {
              "color": "#EBF0F8"
             },
             "line": {
              "color": "white"
             }
            },
            "header": {
             "fill": {
              "color": "#C8D4E3"
             },
             "line": {
              "color": "white"
             }
            },
            "type": "table"
           }
          ]
         },
         "layout": {
          "annotationdefaults": {
           "arrowcolor": "#2a3f5f",
           "arrowhead": 0,
           "arrowwidth": 1
          },
          "autotypenumbers": "strict",
          "coloraxis": {
           "colorbar": {
            "outlinewidth": 0,
            "ticks": ""
           }
          },
          "colorscale": {
           "diverging": [
            [
             0,
             "#8e0152"
            ],
            [
             0.1,
             "#c51b7d"
            ],
            [
             0.2,
             "#de77ae"
            ],
            [
             0.3,
             "#f1b6da"
            ],
            [
             0.4,
             "#fde0ef"
            ],
            [
             0.5,
             "#f7f7f7"
            ],
            [
             0.6,
             "#e6f5d0"
            ],
            [
             0.7,
             "#b8e186"
            ],
            [
             0.8,
             "#7fbc41"
            ],
            [
             0.9,
             "#4d9221"
            ],
            [
             1,
             "#276419"
            ]
           ],
           "sequential": [
            [
             0,
             "#0d0887"
            ],
            [
             0.1111111111111111,
             "#46039f"
            ],
            [
             0.2222222222222222,
             "#7201a8"
            ],
            [
             0.3333333333333333,
             "#9c179e"
            ],
            [
             0.4444444444444444,
             "#bd3786"
            ],
            [
             0.5555555555555556,
             "#d8576b"
            ],
            [
             0.6666666666666666,
             "#ed7953"
            ],
            [
             0.7777777777777778,
             "#fb9f3a"
            ],
            [
             0.8888888888888888,
             "#fdca26"
            ],
            [
             1,
             "#f0f921"
            ]
           ],
           "sequentialminus": [
            [
             0,
             "#0d0887"
            ],
            [
             0.1111111111111111,
             "#46039f"
            ],
            [
             0.2222222222222222,
             "#7201a8"
            ],
            [
             0.3333333333333333,
             "#9c179e"
            ],
            [
             0.4444444444444444,
             "#bd3786"
            ],
            [
             0.5555555555555556,
             "#d8576b"
            ],
            [
             0.6666666666666666,
             "#ed7953"
            ],
            [
             0.7777777777777778,
             "#fb9f3a"
            ],
            [
             0.8888888888888888,
             "#fdca26"
            ],
            [
             1,
             "#f0f921"
            ]
           ]
          },
          "colorway": [
           "#636efa",
           "#EF553B",
           "#00cc96",
           "#ab63fa",
           "#FFA15A",
           "#19d3f3",
           "#FF6692",
           "#B6E880",
           "#FF97FF",
           "#FECB52"
          ],
          "font": {
           "color": "#2a3f5f"
          },
          "geo": {
           "bgcolor": "white",
           "lakecolor": "white",
           "landcolor": "#E5ECF6",
           "showlakes": true,
           "showland": true,
           "subunitcolor": "white"
          },
          "hoverlabel": {
           "align": "left"
          },
          "hovermode": "closest",
          "mapbox": {
           "style": "light"
          },
          "paper_bgcolor": "white",
          "plot_bgcolor": "#E5ECF6",
          "polar": {
           "angularaxis": {
            "gridcolor": "white",
            "linecolor": "white",
            "ticks": ""
           },
           "bgcolor": "#E5ECF6",
           "radialaxis": {
            "gridcolor": "white",
            "linecolor": "white",
            "ticks": ""
           }
          },
          "scene": {
           "xaxis": {
            "backgroundcolor": "#E5ECF6",
            "gridcolor": "white",
            "gridwidth": 2,
            "linecolor": "white",
            "showbackground": true,
            "ticks": "",
            "zerolinecolor": "white"
           },
           "yaxis": {
            "backgroundcolor": "#E5ECF6",
            "gridcolor": "white",
            "gridwidth": 2,
            "linecolor": "white",
            "showbackground": true,
            "ticks": "",
            "zerolinecolor": "white"
           },
           "zaxis": {
            "backgroundcolor": "#E5ECF6",
            "gridcolor": "white",
            "gridwidth": 2,
            "linecolor": "white",
            "showbackground": true,
            "ticks": "",
            "zerolinecolor": "white"
           }
          },
          "shapedefaults": {
           "line": {
            "color": "#2a3f5f"
           }
          },
          "ternary": {
           "aaxis": {
            "gridcolor": "white",
            "linecolor": "white",
            "ticks": ""
           },
           "baxis": {
            "gridcolor": "white",
            "linecolor": "white",
            "ticks": ""
           },
           "bgcolor": "#E5ECF6",
           "caxis": {
            "gridcolor": "white",
            "linecolor": "white",
            "ticks": ""
           }
          },
          "title": {
           "x": 0.05
          },
          "xaxis": {
           "automargin": true,
           "gridcolor": "white",
           "linecolor": "white",
           "ticks": "",
           "title": {
            "standoff": 15
           },
           "zerolinecolor": "white",
           "zerolinewidth": 2
          },
          "yaxis": {
           "automargin": true,
           "gridcolor": "white",
           "linecolor": "white",
           "ticks": "",
           "title": {
            "standoff": 15
           },
           "zerolinecolor": "white",
           "zerolinewidth": 2
          }
         }
        },
        "title": {
         "text": "Plot of medbias for estimand type: IV"
        },
        "width": 800,
        "xaxis": {
         "autorange": true,
         "range": [
          0,
          19
         ],
         "title": {
          "text": "Horizon (h0 to h19)"
         },
         "type": "linear"
        },
        "yaxis": {
         "autorange": true,
         "range": [
          -1.8855708388174346,
          1.1016032102808586
         ],
         "title": {
          "text": "Value"
         },
         "type": "linear"
        }
       }
      },
      "image/png": "[encoded data removed]",
      "text/html": [
       "<div>                            <div id=\"6c165428-99db-4fe4-9b71-be0b0cfc3e0a\" class=\"plotly-graph-div\" style=\"height:525px; width:800px;\"></div>            <script type=\"text/javascript\">                require([\"plotly\"], function(Plotly) {                    window.PLOTLYENV=window.PLOTLYENV || {};                                    if (document.getElementById(\"6c165428-99db-4fe4-9b71-be0b0cfc3e0a\")) {                    Plotly.newPlot(                        \"6c165428-99db-4fe4-9b71-be0b0cfc3e0a\",                        [{\"mode\":\"lines\",\"name\":\"svar\",\"x\":[0,1,2,3,4,5,6,7,8,9,10,11,12,13,14,15,16,17,18,19],\"y\":[-0.710309514873057,-0.207964547510306,0.0172016042476374,-0.13682702504472,0.202374290323746,0.117842507547003,-0.0230294446886729,0.393887866452903,0.321681160983294,0.423567899582846,0.312937660241225,0.568339234460753,0.54504069098378,0.309006348823171,0.495682341975497,0.486357532357095,0.434719534644391,0.363463637117023,0.269422302666345,0.141419740776847],\"type\":\"scatter\"},{\"mode\":\"lines\",\"name\":\"svar_corrbias\",\"x\":[0,1,2,3,4,5,6,7,8,9,10,11,12,13,14,15,16,17,18,19],\"y\":[-1.21651020645525,-0.904832383861977,-0.252805578013555,-0.442668698416693,-0.142711020856382,-0.174167826750959,-0.505258065924998,-0.20832329582489,-0.488055259992915,-0.471050217308301,-0.448509761149132,-0.41063231695631,-0.203902865386306,-0.0191560078080169,0.0894678520850656,0.132849444437116,0.141906325322824,0.136081221008654,0.105065999600222,0.0207925298765133],\"type\":\"scatter\"},{\"mode\":\"lines\",\"name\":\"bvar\",\"x\":[0,1,2,3,4,5,6,7,8,9,10,11,12,13,14,15,16,17,18,19],\"y\":[-0.369536753183925,-0.0092117095843938,0.184489375424394,-0.423224840802645,0.288377815833034,0.760092196616145,0.855233429359113,0.682720918766714,0.797322713256903,0.770119154211633,0.608251193313987,0.500049814265932,0.447526325171714,0.354287621099361,0.0673149811936531,-0.240796077999893,-0.006446959372207,0.0953822330893481,0.103140006683457,0.0714387608706643],\"type\":\"scatter\"},{\"mode\":\"lines\",\"name\":\"lp\",\"x\":[0,1,2,3,4,5,6,7,8,9,10,11,12,13,14,15,16,17,18,19],\"y\":[-1.48215363549708,-0.675885957905279,-0.292247078148278,-0.841049266435809,-0.163338103088053,-0.334364130994333,-0.540341227192242,-0.300819367622328,-0.411132242809966,0.0136911508618821,-0.51314710304887,-0.516867839592238,-0.611388514601752,-0.55699061780896,-0.0487136147784114,-0.114199715563099,-0.556905733811526,-0.425848825624406,-0.399258231527375,0.102206491592132],\"type\":\"scatter\"},{\"mode\":\"lines\",\"name\":\"lp_corrbias\",\"x\":[0,1,2,3,4,5,6,7,8,9,10,11,12,13,14,15,16,17,18,19],\"y\":[-1.73621213636252,-0.967921131520951,-0.494556231628083,-0.871614286863105,-0.418131464769275,-0.801238813662233,-0.809439101865486,-0.659497521673829,-0.918963409979078,-0.271970981254881,-0.745945733788132,-0.691758382119322,-1.0975397531787,-0.80789685476614,-0.268951784231894,-0.0360730161677064,-0.274740884823674,-0.0080261639670914,-0.551062585095835,-0.36063195811271],\"type\":\"scatter\"},{\"mode\":\"lines\",\"name\":\"lp_penalize\",\"x\":[0,1,2,3,4,5,6,7,8,9,10,11,12,13,14,15,16,17,18,19],\"y\":[0.113009919743342,-0.863471827539965,-1.24692229313831,-0.857283952375347,-0.561464984543133,-0.56617614097784,-0.153063594293671,-0.0149748352220908,0.0286960553416344,-0.0289674553912203,-0.221656666947092,-0.454106608658269,-0.967487098639512,-0.513461408724345,-0.355293261125873,-0.590068213247441,-0.313352911607411,-0.389781747352608,-0.272526098525411,-0.0700135854484517],\"type\":\"scatter\"},{\"mode\":\"lines\",\"name\":\"var_avg\",\"x\":[0,1,2,3,4,5,6,7,8,9,10,11,12,13,14,15,16,17,18,19],\"y\":[-0.958480976860539,-0.694539584478077,-0.506805589840385,-0.919920780783498,-0.148259769896583,0.130271807326156,-0.224610969658006,-0.0058714569382862,0.337838314874991,0.271410692154282,0.182562999620462,-0.0248266823462414,0.0890518812185454,-0.210750435990414,-0.509791134123165,-0.713614325952175,-0.409631197161556,-1.33968654067758,-1.15990050909605,-0.299262410608424],\"type\":\"scatter\"},{\"mode\":\"lines\",\"name\":\"lp_lagaug\",\"x\":[0,1,2,3,4,5,6,7,8,9,10,11,12,13,14,15,16,17,18,19],\"y\":[-0.94751777943491,-0.70193716151598,-0.363620941872265,-0.622859129877916,-0.170013410396071,-0.679413383163789,-1.18342438439525,-0.188931562857614,-0.250708667146927,-0.301106500819869,-0.0779695291538141,-0.400993846738696,-0.722908868916018,-0.561218342456104,-0.229518362291321,-0.120034651079132,-0.118159805500571,-0.344080021942047,-0.597444647279178,-0.0511153727259998],\"type\":\"scatter\"},{\"mode\":\"lines\",\"name\":\"lp_gls\",\"x\":[0,1,2,3,4,5,6,7,8,9,10,11,12,13,14,15,16,17,18,19],\"y\":[0.497248990468892,0.553570888101298,0.184275713734519,0.0223996646710685,0.30772506225444,0.425854297422649,0.364554471416726,0.583239139384906,0.732311268449292,0.751844064078093,0.77285066521063,0.602307978876235,0.468970315576937,0.473280952029933,0.549252221646709,0.429302323625536,0.317032316577184,0.635621605551371,0.592338092992688,0.148185919490409],\"type\":\"scatter\"},{\"mode\":\"lines\",\"name\":\"svar_iv\",\"x\":[0,1,2,3,4,5,6,7,8,9,10,11,12,13,14,15,16,17,18,19],\"y\":[-0.819492148377217,-0.766608649234995,-0.636160530321576,-0.14593616535977,0.320601313198655,0.241635847687021,0.122347532719563,0.383339075976278,0.335784808663871,0.478434258259063,0.461584931309191,0.430503936907507,0.435209646859716,0.291875574411446,0.274389012750766,0.216116847821659,0.0224764087417274,0.115420911681555,0.0575522416136235,-0.178768052760704],\"type\":\"scatter\"},{\"mode\":\"lines\",\"name\":\"residual\",\"x\":[0,1,2,3,4,5,6,7,8,9,10,11,12,13,14,15,16,17,18,19],\"y\":[0.0167316430292036,0.299421907729803,0.560284963259454,0.728132026238927,0.63405918368857,0.34341100042724,0.386820190824903,0.360610702276727,0.225277022647548,0.0850947997770582,0.184604724213533,0.398014316298273,0.615682034845942,-0.0492528415878254,0.176546187061249,0.210903526822632,0.438079129780327,0.515815054194227,-0.0118437898610375,-0.0435155643748204],\"type\":\"scatter\"},{\"mode\":\"lines\",\"name\":\"lp_IV_controls\",\"x\":[0,1,2,3,4,5,6,7,8,9,10,11,12,13,14,15,16,17,18,19],\"y\":[-0.362227217844574,0.363830930752008,0.551886774874949,0.259416058184701,0.0895753914624167,0.508421428105383,0.41349378962982,0.474114679149006,0.0803718586678963,0.337391422995588,0.103671499544401,0.425912045285959,0.952244507825944,0.561818034889648,0.285531890891466,0.444929830365649,0.480414224886281,0.780375924980457,0.595831121761805,0.58954850150696],\"type\":\"scatter\"}],                        {\"template\":{\"data\":{\"histogram2dcontour\":[{\"type\":\"histogram2dcontour\",\"colorbar\":{\"outlinewidth\":0,\"ticks\":\"\"},\"colorscale\":[[0.0,\"#0d0887\"],[0.1111111111111111,\"#46039f\"],[0.2222222222222222,\"#7201a8\"],[0.3333333333333333,\"#9c179e\"],[0.4444444444444444,\"#bd3786\"],[0.5555555555555556,\"#d8576b\"],[0.6666666666666666,\"#ed7953\"],[0.7777777777777778,\"#fb9f3a\"],[0.8888888888888888,\"#fdca26\"],[1.0,\"#f0f921\"]]}],\"choropleth\":[{\"type\":\"choropleth\",\"colorbar\":{\"outlinewidth\":0,\"ticks\":\"\"}}],\"histogram2d\":[{\"type\":\"histogram2d\",\"colorbar\":{\"outlinewidth\":0,\"ticks\":\"\"},\"colorscale\":[[0.0,\"#0d0887\"],[0.1111111111111111,\"#46039f\"],[0.2222222222222222,\"#7201a8\"],[0.3333333333333333,\"#9c179e\"],[0.4444444444444444,\"#bd3786\"],[0.5555555555555556,\"#d8576b\"],[0.6666666666666666,\"#ed7953\"],[0.7777777777777778,\"#fb9f3a\"],[0.8888888888888888,\"#fdca26\"],[1.0,\"#f0f921\"]]}],\"heatmap\":[{\"type\":\"heatmap\",\"colorbar\":{\"outlinewidth\":0,\"ticks\":\"\"},\"colorscale\":[[0.0,\"#0d0887\"],[0.1111111111111111,\"#46039f\"],[0.2222222222222222,\"#7201a8\"],[0.3333333333333333,\"#9c179e\"],[0.4444444444444444,\"#bd3786\"],[0.5555555555555556,\"#d8576b\"],[0.6666666666666666,\"#ed7953\"],[0.7777777777777778,\"#fb9f3a\"],[0.8888888888888888,\"#fdca26\"],[1.0,\"#f0f921\"]]}],\"heatmapgl\":[{\"type\":\"heatmapgl\",\"colorbar\":{\"outlinewidth\":0,\"ticks\":\"\"},\"colorscale\":[[0.0,\"#0d0887\"],[0.1111111111111111,\"#46039f\"],[0.2222222222222222,\"#7201a8\"],[0.3333333333333333,\"#9c179e\"],[0.4444444444444444,\"#bd3786\"],[0.5555555555555556,\"#d8576b\"],[0.6666666666666666,\"#ed7953\"],[0.7777777777777778,\"#fb9f3a\"],[0.8888888888888888,\"#fdca26\"],[1.0,\"#f0f921\"]]}],\"contourcarpet\":[{\"type\":\"contourcarpet\",\"colorbar\":{\"outlinewidth\":0,\"ticks\":\"\"}}],\"contour\":[{\"type\":\"contour\",\"colorbar\":{\"outlinewidth\":0,\"ticks\":\"\"},\"colorscale\":[[0.0,\"#0d0887\"],[0.1111111111111111,\"#46039f\"],[0.2222222222222222,\"#7201a8\"],[0.3333333333333333,\"#9c179e\"],[0.4444444444444444,\"#bd3786\"],[0.5555555555555556,\"#d8576b\"],[0.6666666666666666,\"#ed7953\"],[0.7777777777777778,\"#fb9f3a\"],[0.8888888888888888,\"#fdca26\"],[1.0,\"#f0f921\"]]}],\"surface\":[{\"type\":\"surface\",\"colorbar\":{\"outlinewidth\":0,\"ticks\":\"\"},\"colorscale\":[[0.0,\"#0d0887\"],[0.1111111111111111,\"#46039f\"],[0.2222222222222222,\"#7201a8\"],[0.3333333333333333,\"#9c179e\"],[0.4444444444444444,\"#bd3786\"],[0.5555555555555556,\"#d8576b\"],[0.6666666666666666,\"#ed7953\"],[0.7777777777777778,\"#fb9f3a\"],[0.8888888888888888,\"#fdca26\"],[1.0,\"#f0f921\"]]}],\"mesh3d\":[{\"type\":\"mesh3d\",\"colorbar\":{\"outlinewidth\":0,\"ticks\":\"\"}}],\"scatter\":[{\"fillpattern\":{\"fillmode\":\"overlay\",\"size\":10,\"solidity\":0.2},\"type\":\"scatter\"}],\"parcoords\":[{\"type\":\"parcoords\",\"line\":{\"colorbar\":{\"outlinewidth\":0,\"ticks\":\"\"}}}],\"scatterpolargl\":[{\"type\":\"scatterpolargl\",\"marker\":{\"colorbar\":{\"outlinewidth\":0,\"ticks\":\"\"}}}],\"bar\":[{\"error_x\":{\"color\":\"#2a3f5f\"},\"error_y\":{\"color\":\"#2a3f5f\"},\"marker\":{\"line\":{\"color\":\"#E5ECF6\",\"width\":0.5},\"pattern\":{\"fillmode\":\"overlay\",\"size\":10,\"solidity\":0.2}},\"type\":\"bar\"}],\"scattergeo\":[{\"type\":\"scattergeo\",\"marker\":{\"colorbar\":{\"outlinewidth\":0,\"ticks\":\"\"}}}],\"scatterpolar\":[{\"type\":\"scatterpolar\",\"marker\":{\"colorbar\":{\"outlinewidth\":0,\"ticks\":\"\"}}}],\"histogram\":[{\"marker\":{\"pattern\":{\"fillmode\":\"overlay\",\"size\":10,\"solidity\":0.2}},\"type\":\"histogram\"}],\"scattergl\":[{\"type\":\"scattergl\",\"marker\":{\"colorbar\":{\"outlinewidth\":0,\"ticks\":\"\"}}}],\"scatter3d\":[{\"type\":\"scatter3d\",\"line\":{\"colorbar\":{\"outlinewidth\":0,\"ticks\":\"\"}},\"marker\":{\"colorbar\":{\"outlinewidth\":0,\"ticks\":\"\"}}}],\"scattermapbox\":[{\"type\":\"scattermapbox\",\"marker\":{\"colorbar\":{\"outlinewidth\":0,\"ticks\":\"\"}}}],\"scatterternary\":[{\"type\":\"scatterternary\",\"marker\":{\"colorbar\":{\"outlinewidth\":0,\"ticks\":\"\"}}}],\"scattercarpet\":[{\"type\":\"scattercarpet\",\"marker\":{\"colorbar\":{\"outlinewidth\":0,\"ticks\":\"\"}}}],\"carpet\":[{\"aaxis\":{\"endlinecolor\":\"#2a3f5f\",\"gridcolor\":\"white\",\"linecolor\":\"white\",\"minorgridcolor\":\"white\",\"startlinecolor\":\"#2a3f5f\"},\"baxis\":{\"endlinecolor\":\"#2a3f5f\",\"gridcolor\":\"white\",\"linecolor\":\"white\",\"minorgridcolor\":\"white\",\"startlinecolor\":\"#2a3f5f\"},\"type\":\"carpet\"}],\"table\":[{\"cells\":{\"fill\":{\"color\":\"#EBF0F8\"},\"line\":{\"color\":\"white\"}},\"header\":{\"fill\":{\"color\":\"#C8D4E3\"},\"line\":{\"color\":\"white\"}},\"type\":\"table\"}],\"barpolar\":[{\"marker\":{\"line\":{\"color\":\"#E5ECF6\",\"width\":0.5},\"pattern\":{\"fillmode\":\"overlay\",\"size\":10,\"solidity\":0.2}},\"type\":\"barpolar\"}],\"pie\":[{\"automargin\":true,\"type\":\"pie\"}]},\"layout\":{\"autotypenumbers\":\"strict\",\"colorway\":[\"#636efa\",\"#EF553B\",\"#00cc96\",\"#ab63fa\",\"#FFA15A\",\"#19d3f3\",\"#FF6692\",\"#B6E880\",\"#FF97FF\",\"#FECB52\"],\"font\":{\"color\":\"#2a3f5f\"},\"hovermode\":\"closest\",\"hoverlabel\":{\"align\":\"left\"},\"paper_bgcolor\":\"white\",\"plot_bgcolor\":\"#E5ECF6\",\"polar\":{\"bgcolor\":\"#E5ECF6\",\"angularaxis\":{\"gridcolor\":\"white\",\"linecolor\":\"white\",\"ticks\":\"\"},\"radialaxis\":{\"gridcolor\":\"white\",\"linecolor\":\"white\",\"ticks\":\"\"}},\"ternary\":{\"bgcolor\":\"#E5ECF6\",\"aaxis\":{\"gridcolor\":\"white\",\"linecolor\":\"white\",\"ticks\":\"\"},\"baxis\":{\"gridcolor\":\"white\",\"linecolor\":\"white\",\"ticks\":\"\"},\"caxis\":{\"gridcolor\":\"white\",\"linecolor\":\"white\",\"ticks\":\"\"}},\"coloraxis\":{\"colorbar\":{\"outlinewidth\":0,\"ticks\":\"\"}},\"colorscale\":{\"sequential\":[[0.0,\"#0d0887\"],[0.1111111111111111,\"#46039f\"],[0.2222222222222222,\"#7201a8\"],[0.3333333333333333,\"#9c179e\"],[0.4444444444444444,\"#bd3786\"],[0.5555555555555556,\"#d8576b\"],[0.6666666666666666,\"#ed7953\"],[0.7777777777777778,\"#fb9f3a\"],[0.8888888888888888,\"#fdca26\"],[1.0,\"#f0f921\"]],\"sequentialminus\":[[0.0,\"#0d0887\"],[0.1111111111111111,\"#46039f\"],[0.2222222222222222,\"#7201a8\"],[0.3333333333333333,\"#9c179e\"],[0.4444444444444444,\"#bd3786\"],[0.5555555555555556,\"#d8576b\"],[0.6666666666666666,\"#ed7953\"],[0.7777777777777778,\"#fb9f3a\"],[0.8888888888888888,\"#fdca26\"],[1.0,\"#f0f921\"]],\"diverging\":[[0,\"#8e0152\"],[0.1,\"#c51b7d\"],[0.2,\"#de77ae\"],[0.3,\"#f1b6da\"],[0.4,\"#fde0ef\"],[0.5,\"#f7f7f7\"],[0.6,\"#e6f5d0\"],[0.7,\"#b8e186\"],[0.8,\"#7fbc41\"],[0.9,\"#4d9221\"],[1,\"#276419\"]]},\"xaxis\":{\"gridcolor\":\"white\",\"linecolor\":\"white\",\"ticks\":\"\",\"title\":{\"standoff\":15},\"zerolinecolor\":\"white\",\"automargin\":true,\"zerolinewidth\":2},\"yaxis\":{\"gridcolor\":\"white\",\"linecolor\":\"white\",\"ticks\":\"\",\"title\":{\"standoff\":15},\"zerolinecolor\":\"white\",\"automargin\":true,\"zerolinewidth\":2},\"scene\":{\"xaxis\":{\"backgroundcolor\":\"#E5ECF6\",\"gridcolor\":\"white\",\"linecolor\":\"white\",\"showbackground\":true,\"ticks\":\"\",\"zerolinecolor\":\"white\",\"gridwidth\":2},\"yaxis\":{\"backgroundcolor\":\"#E5ECF6\",\"gridcolor\":\"white\",\"linecolor\":\"white\",\"showbackground\":true,\"ticks\":\"\",\"zerolinecolor\":\"white\",\"gridwidth\":2},\"zaxis\":{\"backgroundcolor\":\"#E5ECF6\",\"gridcolor\":\"white\",\"linecolor\":\"white\",\"showbackground\":true,\"ticks\":\"\",\"zerolinecolor\":\"white\",\"gridwidth\":2}},\"shapedefaults\":{\"line\":{\"color\":\"#2a3f5f\"}},\"annotationdefaults\":{\"arrowcolor\":\"#2a3f5f\",\"arrowhead\":0,\"arrowwidth\":1},\"geo\":{\"bgcolor\":\"white\",\"landcolor\":\"#E5ECF6\",\"subunitcolor\":\"white\",\"showland\":true,\"showlakes\":true,\"lakecolor\":\"white\"},\"title\":{\"x\":0.05},\"mapbox\":{\"style\":\"light\"}}},\"title\":{\"text\":\"Plot of medbias for estimand type: IV\"},\"xaxis\":{\"title\":{\"text\":\"Horizon (h0 to h19)\"}},\"yaxis\":{\"title\":{\"text\":\"Value\"}},\"legend\":{\"title\":{\"text\":\"Methods\"}},\"width\":800},                        {\"responsive\": true}                    ).then(function(){\n",
       "                            \n",
       "var gd = document.getElementById('6c165428-99db-4fe4-9b71-be0b0cfc3e0a');\n",
       "var x = new MutationObserver(function (mutations, observer) {{\n",
       "        var display = window.getComputedStyle(gd).display;\n",
       "        if (!display || display === 'none') {{\n",
       "            console.log([gd, 'removed!']);\n",
       "            Plotly.purge(gd);\n",
       "            observer.disconnect();\n",
       "        }}\n",
       "}});\n",
       "\n",
       "// Listen for the removal of the full notebook cells\n",
       "var notebookContainer = gd.closest('#notebook-container');\n",
       "if (notebookContainer) {{\n",
       "    x.observe(notebookContainer, {childList: true});\n",
       "}}\n",
       "\n",
       "// Listen for the clearing of the current output cell\n",
       "var outputEl = gd.closest('.output');\n",
       "if (outputEl) {{\n",
       "    x.observe(outputEl, {childList: true});\n",
       "}}\n",
       "\n",
       "                        })                };                });            </script>        </div>"
      ]
     },
     "metadata": {},
     "output_type": "display_data"
    }
   ],
   "source": [
    "plot_csv_data(csv_filename, title, 1)\n"
   ]
  }
 ],
 "metadata": {
  "kernelspec": {
   "display_name": "Python 3 (ipykernel)",
   "language": "python",
   "name": "python3"
  },
  "language_info": {
   "codemirror_mode": {
    "name": "ipython",
    "version": 3
   },
   "file_extension": ".py",
   "mimetype": "text/x-python",
   "name": "python",
   "nbconvert_exporter": "python",
   "pygments_lexer": "ipython3",
   "version": "3.11.1"
  }
 },
 "nbformat": 4,
 "nbformat_minor": 4
}
